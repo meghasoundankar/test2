{
 "cells": [
  {
   "cell_type": "code",
   "execution_count": null,
   "id": "fa2b667e",
   "metadata": {},
   "outputs": [],
   "source": [
    "1+1 "
   ]
  }
 ],
 "metadata": {
  "kernelspec": {
   "display_name": "Python 3 (ipykernel)",
   "language": "python",
   "name": "python3"
  }
 },
 "nbformat": 4,
 "nbformat_minor": 5
}
